{
 "cells": [
  {
   "cell_type": "code",
   "execution_count": 1,
   "id": "bf9888b4",
   "metadata": {},
   "outputs": [
    {
     "name": "stdout",
     "output_type": "stream",
     "text": [
      "Requirement already satisfied: imutils in c:\\users\\sn61\\anaconda3\\envs\\jayanthi122011012859\\lib\\site-packages (0.5.4)Note: you may need to restart the kernel to use updated packages.\n",
      "\n"
     ]
    }
   ],
   "source": [
    "pip install imutils"
   ]
  },
  {
   "cell_type": "code",
   "execution_count": 2,
   "id": "a12f94eb",
   "metadata": {},
   "outputs": [],
   "source": [
    "import cv2\n",
    "import imutils"
   ]
  },
  {
   "cell_type": "markdown",
   "id": "c95d3cb0",
   "metadata": {},
   "source": [
    "# Initializing the HOG person detector"
   ]
  },
  {
   "cell_type": "code",
   "execution_count": 3,
   "id": "4cfbe07a",
   "metadata": {},
   "outputs": [],
   "source": [
    "img=cv2.imread(\"C:/Users/SN61/Downloads/1000_F_488521418_9JbiGcXlpKFNVaNEmsIMwCpZD7H3EL7v.jpg\",0)"
   ]
  },
  {
   "cell_type": "code",
   "execution_count": 4,
   "id": "4859cace",
   "metadata": {},
   "outputs": [
    {
     "data": {
      "text/plain": [
       "array([[161, 162, 163, ..., 220, 220, 220],\n",
       "       [160, 161, 162, ..., 220, 220, 220],\n",
       "       [158, 160, 161, ..., 220, 220, 220],\n",
       "       ...,\n",
       "       [233, 233, 233, ..., 232, 233, 233],\n",
       "       [233, 233, 233, ..., 232, 232, 232],\n",
       "       [232, 232, 233, ..., 232, 232, 232]], dtype=uint8)"
      ]
     },
     "execution_count": 4,
     "metadata": {},
     "output_type": "execute_result"
    }
   ],
   "source": [
    "img"
   ]
  },
  {
   "cell_type": "code",
   "execution_count": 5,
   "id": "16c90633",
   "metadata": {},
   "outputs": [
    {
     "data": {
      "text/plain": [
       "< cv2.HOGDescriptor 00000219A478B4B0>"
      ]
     },
     "execution_count": 5,
     "metadata": {},
     "output_type": "execute_result"
    }
   ],
   "source": [
    "hog=cv2.HOGDescriptor()\n",
    "hog.setSVMDetector(cv2.HOGDescriptor_getDefaultPeopleDetector())\n",
    "hog"
   ]
  },
  {
   "cell_type": "code",
   "execution_count": 6,
   "id": "c0e1a619",
   "metadata": {},
   "outputs": [
    {
     "data": {
      "text/plain": [
       "(668, 1000)"
      ]
     },
     "execution_count": 6,
     "metadata": {},
     "output_type": "execute_result"
    }
   ],
   "source": [
    "img.shape"
   ]
  },
  {
   "cell_type": "code",
   "execution_count": 7,
   "id": "e73823f8",
   "metadata": {},
   "outputs": [
    {
     "data": {
      "text/plain": [
       "(267, 400)"
      ]
     },
     "execution_count": 7,
     "metadata": {},
     "output_type": "execute_result"
    }
   ],
   "source": [
    "img=imutils.resize(img,width=min(400,img.shape[1]))\n",
    "img.shape"
   ]
  },
  {
   "cell_type": "markdown",
   "id": "1b7b5c0a",
   "metadata": {},
   "source": [
    "# detecting all the region in the image that has a pedestrains inside it"
   ]
  },
  {
   "cell_type": "code",
   "execution_count": 8,
   "id": "d4f57ca7",
   "metadata": {},
   "outputs": [
    {
     "data": {
      "text/plain": [
       "array([[157,  70, 111, 197],\n",
       "       [ 89,  72, 112, 195],\n",
       "       [236,  55,  87, 173],\n",
       "       [ 20,  56, 130, 211],\n",
       "       [ 45,  50,  77, 153]])"
      ]
     },
     "execution_count": 8,
     "metadata": {},
     "output_type": "execute_result"
    }
   ],
   "source": [
    "(regions,img)=hog.detectMultiScale(img, \n",
    "                                   winStride=(1,1),\n",
    "                                   padding=(40,40),\n",
    "                                   scale=1.05)\n",
    "regions"
   ]
  },
  {
   "cell_type": "markdown",
   "id": "03f3a7a4",
   "metadata": {},
   "source": [
    "# drawing the regions in the image"
   ]
  },
  {
   "cell_type": "code",
   "execution_count": 9,
   "id": "c3457b3e",
   "metadata": {},
   "outputs": [],
   "source": [
    "for(x,y,w,h)in regions:\n",
    "    cv2.rectangle(img,(x,y),\n",
    "                  (x+w,y+h),\n",
    "                  (0,255,0),3)\n",
    "    "
   ]
  },
  {
   "cell_type": "code",
   "execution_count": 10,
   "id": "ed0eb336",
   "metadata": {},
   "outputs": [],
   "source": [
    "cv2.imshow('ORIGINAL',img)\n",
    "cv2.waitKey(0)\n",
    "cv2.destroyAllWindows()"
   ]
  },
  {
   "cell_type": "code",
   "execution_count": null,
   "id": "db2bc26e",
   "metadata": {},
   "outputs": [],
   "source": []
  }
 ],
 "metadata": {
  "kernelspec": {
   "display_name": "Python 3 (ipykernel)",
   "language": "python",
   "name": "python3"
  },
  "language_info": {
   "codemirror_mode": {
    "name": "ipython",
    "version": 3
   },
   "file_extension": ".py",
   "mimetype": "text/x-python",
   "name": "python",
   "nbconvert_exporter": "python",
   "pygments_lexer": "ipython3",
   "version": "3.11.5"
  }
 },
 "nbformat": 4,
 "nbformat_minor": 5
}
