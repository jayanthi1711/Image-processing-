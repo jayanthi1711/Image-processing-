{
 "cells": [
  {
   "cell_type": "code",
   "execution_count": 1,
   "id": "cb0d3a88",
   "metadata": {},
   "outputs": [],
   "source": [
    "import cv2\n",
    "import numpy as np"
   ]
  },
  {
   "cell_type": "code",
   "execution_count": 2,
   "id": "acb92095",
   "metadata": {},
   "outputs": [],
   "source": [
    "im1=cv2.imread(\"C:/Users/SN61/Pictures/Saved Pictures/pictures.png\")\n",
    "im2=cv2.imread(\"C:/Users/SN61/Pictures/Saved Pictures/Untitled.png\")"
   ]
  },
  {
   "cell_type": "code",
   "execution_count": 3,
   "id": "faf6e607",
   "metadata": {},
   "outputs": [
    {
     "data": {
      "text/plain": [
       "array([[[ 69, 209,  14],\n",
       "        [ 69, 209,  14],\n",
       "        [ 69, 209,  14],\n",
       "        ...,\n",
       "        [ 69, 209,  14],\n",
       "        [ 69, 209,  14],\n",
       "        [ 69, 209,  14]],\n",
       "\n",
       "       [[ 69, 209,  14],\n",
       "        [ 69, 209,  14],\n",
       "        [ 69, 209,  14],\n",
       "        ...,\n",
       "        [ 69, 209,  14],\n",
       "        [ 69, 209,  14],\n",
       "        [ 69, 209,  14]],\n",
       "\n",
       "       [[ 69, 209,  14],\n",
       "        [ 69, 209,  14],\n",
       "        [ 69, 209,  14],\n",
       "        ...,\n",
       "        [ 69, 209,  14],\n",
       "        [ 69, 209,  14],\n",
       "        [ 69, 209,  14]],\n",
       "\n",
       "       ...,\n",
       "\n",
       "       [[ 69, 209,  14],\n",
       "        [ 69, 209,  14],\n",
       "        [ 69, 209,  14],\n",
       "        ...,\n",
       "        [ 69, 209,  14],\n",
       "        [ 69, 209,  14],\n",
       "        [ 69, 209,  14]],\n",
       "\n",
       "       [[ 69, 209,  14],\n",
       "        [ 69, 209,  14],\n",
       "        [ 69, 209,  14],\n",
       "        ...,\n",
       "        [ 69, 209,  14],\n",
       "        [ 69, 209,  14],\n",
       "        [ 69, 209,  14]],\n",
       "\n",
       "       [[ 69, 209,  14],\n",
       "        [ 69, 209,  14],\n",
       "        [ 69, 209,  14],\n",
       "        ...,\n",
       "        [ 69, 209,  14],\n",
       "        [ 69, 209,  14],\n",
       "        [ 69, 209,  14]]], dtype=uint8)"
      ]
     },
     "execution_count": 3,
     "metadata": {},
     "output_type": "execute_result"
    }
   ],
   "source": [
    "im1"
   ]
  },
  {
   "cell_type": "markdown",
   "id": "19f151ab",
   "metadata": {},
   "source": [
    "## "
   ]
  },
  {
   "cell_type": "code",
   "execution_count": 6,
   "id": "4602fe97",
   "metadata": {},
   "outputs": [
    {
     "data": {
      "text/plain": [
       "array([[[0, 0, 0],\n",
       "        [0, 0, 0],\n",
       "        [0, 0, 0],\n",
       "        ...,\n",
       "        [0, 0, 0],\n",
       "        [0, 0, 0],\n",
       "        [0, 0, 0]],\n",
       "\n",
       "       [[0, 0, 0],\n",
       "        [0, 0, 0],\n",
       "        [0, 0, 0],\n",
       "        ...,\n",
       "        [0, 0, 0],\n",
       "        [0, 0, 0],\n",
       "        [0, 0, 0]],\n",
       "\n",
       "       [[0, 0, 0],\n",
       "        [0, 0, 0],\n",
       "        [0, 0, 0],\n",
       "        ...,\n",
       "        [0, 0, 0],\n",
       "        [0, 0, 0],\n",
       "        [0, 0, 0]],\n",
       "\n",
       "       ...,\n",
       "\n",
       "       [[0, 0, 0],\n",
       "        [0, 0, 0],\n",
       "        [0, 0, 0],\n",
       "        ...,\n",
       "        [0, 0, 0],\n",
       "        [0, 0, 0],\n",
       "        [0, 0, 0]],\n",
       "\n",
       "       [[0, 0, 0],\n",
       "        [0, 0, 0],\n",
       "        [0, 0, 0],\n",
       "        ...,\n",
       "        [0, 0, 0],\n",
       "        [0, 0, 0],\n",
       "        [0, 0, 0]],\n",
       "\n",
       "       [[0, 0, 0],\n",
       "        [0, 0, 0],\n",
       "        [0, 0, 0],\n",
       "        ...,\n",
       "        [0, 0, 0],\n",
       "        [0, 0, 0],\n",
       "        [0, 0, 0]]], dtype=uint8)"
      ]
     },
     "execution_count": 6,
     "metadata": {},
     "output_type": "execute_result"
    }
   ],
   "source": [
    "im2"
   ]
  },
  {
   "cell_type": "code",
   "execution_count": 7,
   "id": "46479b03",
   "metadata": {},
   "outputs": [],
   "source": [
    "cv2.imshow(\"img1\",im1)\n",
    "cv2.imshow(\"img2\",im2)\n",
    "cv2.waitKey(0)\n",
    "cv2.destroyAllWindows()"
   ]
  },
  {
   "cell_type": "code",
   "execution_count": null,
   "id": "552b5138",
   "metadata": {},
   "outputs": [],
   "source": [
    "#blending"
   ]
  },
  {
   "cell_type": "code",
   "execution_count": 12,
   "id": "8c8a7dbb",
   "metadata": {},
   "outputs": [
    {
     "ename": "error",
     "evalue": "OpenCV(4.9.0) D:\\a\\opencv-python\\opencv-python\\opencv\\modules\\core\\src\\arithm.cpp:650: error: (-209:Sizes of input arguments do not match) The operation is neither 'array op array' (where arrays have the same size and the same number of channels), nor 'array op scalar', nor 'scalar op array' in function 'cv::arithm_op'\n",
     "output_type": "error",
     "traceback": [
      "\u001b[1;31m---------------------------------------------------------------------------\u001b[0m",
      "\u001b[1;31merror\u001b[0m                                     Traceback (most recent call last)",
      "Cell \u001b[1;32mIn[12], line 1\u001b[0m\n\u001b[1;32m----> 1\u001b[0m im_blend\u001b[38;5;241m=\u001b[39mcv2\u001b[38;5;241m.\u001b[39maddWeighted(im1,\u001b[38;5;241m1\u001b[39m,im2,\u001b[38;5;241m0.3\u001b[39m,\u001b[38;5;241m0\u001b[39m)\n",
      "\u001b[1;31merror\u001b[0m: OpenCV(4.9.0) D:\\a\\opencv-python\\opencv-python\\opencv\\modules\\core\\src\\arithm.cpp:650: error: (-209:Sizes of input arguments do not match) The operation is neither 'array op array' (where arrays have the same size and the same number of channels), nor 'array op scalar', nor 'scalar op array' in function 'cv::arithm_op'\n"
     ]
    }
   ],
   "source": [
    "im_blend=cv2.addWeighted(im1,1,im2,0.3,0)"
   ]
  },
  {
   "cell_type": "code",
   "execution_count": 13,
   "id": "87bfa713",
   "metadata": {},
   "outputs": [
    {
     "ename": "NameError",
     "evalue": "name 'im_blend' is not defined",
     "output_type": "error",
     "traceback": [
      "\u001b[1;31m---------------------------------------------------------------------------\u001b[0m",
      "\u001b[1;31mNameError\u001b[0m                                 Traceback (most recent call last)",
      "Cell \u001b[1;32mIn[13], line 5\u001b[0m\n\u001b[0;32m      3\u001b[0m cv2\u001b[38;5;241m.\u001b[39mimshow(\u001b[38;5;124m\"\u001b[39m\u001b[38;5;124mim2\u001b[39m\u001b[38;5;124m\"\u001b[39m,im2)\n\u001b[0;32m      4\u001b[0m cv2\u001b[38;5;241m.\u001b[39mwaitKey(\u001b[38;5;241m0\u001b[39m)\n\u001b[1;32m----> 5\u001b[0m cv2\u001b[38;5;241m.\u001b[39mimshow(\u001b[38;5;124m\"\u001b[39m\u001b[38;5;124mBlended\u001b[39m\u001b[38;5;124m\"\u001b[39m,im_blend)\n\u001b[0;32m      6\u001b[0m cv2\u001b[38;5;241m.\u001b[39mwaitKey(\u001b[38;5;241m0\u001b[39m)\n\u001b[0;32m      7\u001b[0m cv2\u001b[38;5;241m.\u001b[39mdestroyAllWindows\n",
      "\u001b[1;31mNameError\u001b[0m: name 'im_blend' is not defined"
     ]
    }
   ],
   "source": [
    "cv2.imshow(\"im1\",im1)\n",
    "cv2.waitKey(0)\n",
    "cv2.imshow(\"im2\",im2)\n",
    "cv2.waitKey(0)\n",
    "cv2.imshow(\"Blended\",im_blend)\n",
    "cv2.waitKey(0)\n",
    "cv2.destroyAllWindows"
   ]
  },
  {
   "cell_type": "code",
   "execution_count": null,
   "id": "c22daed5",
   "metadata": {},
   "outputs": [],
   "source": []
  }
 ],
 "metadata": {
  "kernelspec": {
   "display_name": "Python 3 (ipykernel)",
   "language": "python",
   "name": "python3"
  },
  "language_info": {
   "codemirror_mode": {
    "name": "ipython",
    "version": 3
   },
   "file_extension": ".py",
   "mimetype": "text/x-python",
   "name": "python",
   "nbconvert_exporter": "python",
   "pygments_lexer": "ipython3",
   "version": "3.11.5"
  }
 },
 "nbformat": 4,
 "nbformat_minor": 5
}
