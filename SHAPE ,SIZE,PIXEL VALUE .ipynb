{
 "cells": [
  {
   "cell_type": "markdown",
   "id": "ffcfe82a",
   "metadata": {},
   "source": [
    "# importing libraries"
   ]
  },
  {
   "cell_type": "code",
   "execution_count": 1,
   "id": "4d4db9c2",
   "metadata": {},
   "outputs": [],
   "source": [
    "import cv2"
   ]
  },
  {
   "cell_type": "code",
   "execution_count": 2,
   "id": "73dee51e",
   "metadata": {},
   "outputs": [],
   "source": [
    "import numpy as np"
   ]
  },
  {
   "cell_type": "code",
   "execution_count": 3,
   "id": "9904b5d3",
   "metadata": {},
   "outputs": [],
   "source": [
    "photo=cv2.imread(\"C:/Users/SN61/Pictures/sk12.jpg\",0)"
   ]
  },
  {
   "cell_type": "code",
   "execution_count": 4,
   "id": "07794d2d",
   "metadata": {},
   "outputs": [
    {
     "data": {
      "text/plain": [
       "array([[ 62,  65,  69, ...,  43,  44,  44],\n",
       "       [ 64,  66,  69, ...,  40,  44,  44],\n",
       "       [ 67,  68,  70, ...,  37,  44,  44],\n",
       "       ...,\n",
       "       [ 56,  39,  32, ...,  48,  40,  40],\n",
       "       [124, 100,  87, ...,  48,  41,  41],\n",
       "       [125, 101,  96, ...,  49,  46,  46]], dtype=uint8)"
      ]
     },
     "execution_count": 4,
     "metadata": {},
     "output_type": "execute_result"
    }
   ],
   "source": [
    "photo"
   ]
  },
  {
   "cell_type": "code",
   "execution_count": 5,
   "id": "3cf86a57",
   "metadata": {},
   "outputs": [],
   "source": [
    "cv2.imshow(\"w1\",photo)\n",
    "cv2.waitKey(0)\n",
    "cv2.destroyAllWindows()"
   ]
  },
  {
   "cell_type": "code",
   "execution_count": 6,
   "id": "49a8d27d",
   "metadata": {},
   "outputs": [
    {
     "data": {
      "text/plain": [
       "True"
      ]
     },
     "execution_count": 6,
     "metadata": {},
     "output_type": "execute_result"
    }
   ],
   "source": [
    "cv2.imwrite(\"C:/Users/SN61/Pictures/Camera Roll/bike.jpg\",photo)"
   ]
  },
  {
   "cell_type": "markdown",
   "id": "cbe5b7e0",
   "metadata": {},
   "source": [
    "# shape of an image"
   ]
  },
  {
   "cell_type": "code",
   "execution_count": 7,
   "id": "68473768",
   "metadata": {},
   "outputs": [],
   "source": [
    "shp=photo.shape"
   ]
  },
  {
   "cell_type": "code",
   "execution_count": 8,
   "id": "4e605fe7",
   "metadata": {},
   "outputs": [
    {
     "name": "stdout",
     "output_type": "stream",
     "text": [
      "(1326, 1322)\n"
     ]
    }
   ],
   "source": [
    "print(shp)"
   ]
  },
  {
   "cell_type": "markdown",
   "id": "799cda16",
   "metadata": {},
   "source": [
    "# size of an image"
   ]
  },
  {
   "cell_type": "code",
   "execution_count": 9,
   "id": "1c06d1da",
   "metadata": {},
   "outputs": [],
   "source": [
    "sz=photo.size"
   ]
  },
  {
   "cell_type": "code",
   "execution_count": 10,
   "id": "d7aef46e",
   "metadata": {},
   "outputs": [
    {
     "name": "stdout",
     "output_type": "stream",
     "text": [
      "1752972\n"
     ]
    }
   ],
   "source": [
    "print(sz)"
   ]
  },
  {
   "cell_type": "markdown",
   "id": "f4dff494",
   "metadata": {},
   "source": [
    "# value of a pixel"
   ]
  },
  {
   "cell_type": "code",
   "execution_count": 19,
   "id": "fae4e9f5",
   "metadata": {},
   "outputs": [],
   "source": [
    "px=photo[20,40]"
   ]
  },
  {
   "cell_type": "code",
   "execution_count": 20,
   "id": "05c1daa0",
   "metadata": {},
   "outputs": [
    {
     "name": "stdout",
     "output_type": "stream",
     "text": [
      "74\n"
     ]
    }
   ],
   "source": [
    "print(px)"
   ]
  },
  {
   "cell_type": "code",
   "execution_count": null,
   "id": "8df6016e",
   "metadata": {},
   "outputs": [],
   "source": []
  }
 ],
 "metadata": {
  "kernelspec": {
   "display_name": "Python 3 (ipykernel)",
   "language": "python",
   "name": "python3"
  },
  "language_info": {
   "codemirror_mode": {
    "name": "ipython",
    "version": 3
   },
   "file_extension": ".py",
   "mimetype": "text/x-python",
   "name": "python",
   "nbconvert_exporter": "python",
   "pygments_lexer": "ipython3",
   "version": "3.11.5"
  }
 },
 "nbformat": 4,
 "nbformat_minor": 5
}
