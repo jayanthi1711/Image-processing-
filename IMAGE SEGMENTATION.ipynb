{
 "cells": [
  {
   "cell_type": "code",
   "execution_count": 3,
   "id": "21369d77",
   "metadata": {},
   "outputs": [],
   "source": [
    "import cv2\n",
    "import numpy as np"
   ]
  },
  {
   "cell_type": "markdown",
   "id": "26647a0d",
   "metadata": {},
   "source": [
    "# Region Of Interest"
   ]
  },
  {
   "cell_type": "code",
   "execution_count": 4,
   "id": "5173af3f",
   "metadata": {},
   "outputs": [],
   "source": [
    "img=cv2.imread('C:/Users/SN61/Downloads/e52372cfd98fb2e0c31ba1effa7403d7.jpg')\n"
   ]
  },
  {
   "cell_type": "code",
   "execution_count": 5,
   "id": "e1aaed6b",
   "metadata": {},
   "outputs": [],
   "source": [
    "r=cv2.selectROI(\"select the area\",img)"
   ]
  },
  {
   "cell_type": "code",
   "execution_count": 6,
   "id": "4e5b66c6",
   "metadata": {},
   "outputs": [
    {
     "data": {
      "text/plain": [
       "13"
      ]
     },
     "execution_count": 6,
     "metadata": {},
     "output_type": "execute_result"
    }
   ],
   "source": [
    "cropped_image=img[(r[1]):int(r[1]+r[3]),\n",
    "                  int(r[0]):int(r[0]+r[2])]\n",
    "cv2.imshow(\"cropped image\",cropped_image)\n",
    "cv2.waitKey(0)"
   ]
  },
  {
   "cell_type": "code",
   "execution_count": null,
   "id": "4799537c",
   "metadata": {},
   "outputs": [],
   "source": []
  }
 ],
 "metadata": {
  "kernelspec": {
   "display_name": "Python 3 (ipykernel)",
   "language": "python",
   "name": "python3"
  },
  "language_info": {
   "codemirror_mode": {
    "name": "ipython",
    "version": 3
   },
   "file_extension": ".py",
   "mimetype": "text/x-python",
   "name": "python",
   "nbconvert_exporter": "python",
   "pygments_lexer": "ipython3",
   "version": "3.11.5"
  }
 },
 "nbformat": 4,
 "nbformat_minor": 5
}
