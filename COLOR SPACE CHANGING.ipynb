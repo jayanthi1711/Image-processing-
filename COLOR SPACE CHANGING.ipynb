{
 "cells": [
  {
   "cell_type": "markdown",
   "id": "f5db97c9",
   "metadata": {},
   "source": [
    "# COLOUR SPACE CHANGING"
   ]
  },
  {
   "cell_type": "code",
   "execution_count": 12,
   "id": "a259fa05",
   "metadata": {},
   "outputs": [],
   "source": [
    "import cv2"
   ]
  },
  {
   "cell_type": "code",
   "execution_count": 14,
   "id": "b54201bd",
   "metadata": {},
   "outputs": [],
   "source": [
    "import numpy as np"
   ]
  },
  {
   "cell_type": "code",
   "execution_count": 17,
   "id": "581b7c51",
   "metadata": {},
   "outputs": [],
   "source": [
    "photo=cv2.imread(\"C:/Users/SN61/Pictures/sk12.jpg\")"
   ]
  },
  {
   "cell_type": "code",
   "execution_count": 18,
   "id": "f5e11411",
   "metadata": {},
   "outputs": [
    {
     "data": {
      "text/plain": [
       "array([[[ 58,  62,  63],\n",
       "        [ 61,  65,  66],\n",
       "        [ 65,  69,  70],\n",
       "        ...,\n",
       "        [ 48,  43,  42],\n",
       "        [ 49,  44,  43],\n",
       "        [ 49,  44,  43]],\n",
       "\n",
       "       [[ 60,  64,  65],\n",
       "        [ 62,  66,  67],\n",
       "        [ 65,  69,  70],\n",
       "        ...,\n",
       "        [ 45,  40,  39],\n",
       "        [ 49,  44,  43],\n",
       "        [ 49,  44,  43]],\n",
       "\n",
       "       [[ 63,  67,  68],\n",
       "        [ 64,  68,  69],\n",
       "        [ 66,  70,  71],\n",
       "        ...,\n",
       "        [ 42,  37,  36],\n",
       "        [ 49,  44,  43],\n",
       "        [ 49,  44,  43]],\n",
       "\n",
       "       ...,\n",
       "\n",
       "       [[ 61,  56,  55],\n",
       "        [ 44,  39,  38],\n",
       "        [ 37,  32,  31],\n",
       "        ...,\n",
       "        [ 53,  46,  49],\n",
       "        [ 45,  38,  41],\n",
       "        [ 45,  38,  41]],\n",
       "\n",
       "       [[129, 124, 123],\n",
       "        [105, 100,  99],\n",
       "        [ 92,  87,  86],\n",
       "        ...,\n",
       "        [ 53,  46,  49],\n",
       "        [ 46,  39,  42],\n",
       "        [ 46,  39,  42]],\n",
       "\n",
       "       [[130, 125, 124],\n",
       "        [106, 101, 100],\n",
       "        [101,  96,  95],\n",
       "        ...,\n",
       "        [ 54,  47,  50],\n",
       "        [ 51,  44,  47],\n",
       "        [ 51,  44,  47]]], dtype=uint8)"
      ]
     },
     "execution_count": 18,
     "metadata": {},
     "output_type": "execute_result"
    }
   ],
   "source": [
    "photo"
   ]
  },
  {
   "cell_type": "code",
   "execution_count": 19,
   "id": "36f9c319",
   "metadata": {},
   "outputs": [],
   "source": [
    "shp=photo.shape"
   ]
  },
  {
   "cell_type": "code",
   "execution_count": 20,
   "id": "d6da998c",
   "metadata": {},
   "outputs": [
    {
     "data": {
      "text/plain": [
       "(1326, 1322, 3)"
      ]
     },
     "execution_count": 20,
     "metadata": {},
     "output_type": "execute_result"
    }
   ],
   "source": [
    "shp"
   ]
  },
  {
   "cell_type": "code",
   "execution_count": 21,
   "id": "68f06b5d",
   "metadata": {},
   "outputs": [],
   "source": [
    "size=photo.size"
   ]
  },
  {
   "cell_type": "code",
   "execution_count": 22,
   "id": "2dabb279",
   "metadata": {},
   "outputs": [
    {
     "data": {
      "text/plain": [
       "5258916"
      ]
     },
     "execution_count": 22,
     "metadata": {},
     "output_type": "execute_result"
    }
   ],
   "source": [
    "size"
   ]
  },
  {
   "cell_type": "code",
   "execution_count": 24,
   "id": "0229324a",
   "metadata": {},
   "outputs": [],
   "source": [
    "photo_resized=cv2.resize(photo,(250,250))"
   ]
  },
  {
   "cell_type": "code",
   "execution_count": 25,
   "id": "aa28e180",
   "metadata": {
    "scrolled": false
   },
   "outputs": [
    {
     "data": {
      "text/plain": [
       "array([[[ 58,  62,  63],\n",
       "        [ 61,  65,  66],\n",
       "        [ 65,  69,  70],\n",
       "        ...,\n",
       "        [ 48,  43,  42],\n",
       "        [ 49,  44,  43],\n",
       "        [ 49,  44,  43]],\n",
       "\n",
       "       [[ 60,  64,  65],\n",
       "        [ 62,  66,  67],\n",
       "        [ 65,  69,  70],\n",
       "        ...,\n",
       "        [ 45,  40,  39],\n",
       "        [ 49,  44,  43],\n",
       "        [ 49,  44,  43]],\n",
       "\n",
       "       [[ 63,  67,  68],\n",
       "        [ 64,  68,  69],\n",
       "        [ 66,  70,  71],\n",
       "        ...,\n",
       "        [ 42,  37,  36],\n",
       "        [ 49,  44,  43],\n",
       "        [ 49,  44,  43]],\n",
       "\n",
       "       ...,\n",
       "\n",
       "       [[ 61,  56,  55],\n",
       "        [ 44,  39,  38],\n",
       "        [ 37,  32,  31],\n",
       "        ...,\n",
       "        [ 53,  46,  49],\n",
       "        [ 45,  38,  41],\n",
       "        [ 45,  38,  41]],\n",
       "\n",
       "       [[129, 124, 123],\n",
       "        [105, 100,  99],\n",
       "        [ 92,  87,  86],\n",
       "        ...,\n",
       "        [ 53,  46,  49],\n",
       "        [ 46,  39,  42],\n",
       "        [ 46,  39,  42]],\n",
       "\n",
       "       [[130, 125, 124],\n",
       "        [106, 101, 100],\n",
       "        [101,  96,  95],\n",
       "        ...,\n",
       "        [ 54,  47,  50],\n",
       "        [ 51,  44,  47],\n",
       "        [ 51,  44,  47]]], dtype=uint8)"
      ]
     },
     "execution_count": 25,
     "metadata": {},
     "output_type": "execute_result"
    }
   ],
   "source": [
    "photo"
   ]
  },
  {
   "cell_type": "code",
   "execution_count": 27,
   "id": "d19b5618",
   "metadata": {
    "scrolled": true
   },
   "outputs": [
    {
     "name": "stdout",
     "output_type": "stream",
     "text": [
      "(250, 250, 3)\n"
     ]
    }
   ],
   "source": [
    "print(photo_resized.shape)"
   ]
  },
  {
   "cell_type": "code",
   "execution_count": null,
   "id": "c33f93fc",
   "metadata": {},
   "outputs": [],
   "source": [
    "cv2.photo(\"img1,int\")"
   ]
  },
  {
   "cell_type": "code",
   "execution_count": null,
   "id": "a0e2fea7",
   "metadata": {},
   "outputs": [],
   "source": []
  },
  {
   "cell_type": "code",
   "execution_count": 9,
   "id": "bd6d8edf",
   "metadata": {},
   "outputs": [],
   "source": [
    "colors_avl=[i for i in dir(cv2) if i.startswith(\"COLOR_BGR\") ]"
   ]
  },
  {
   "cell_type": "code",
   "execution_count": 10,
   "id": "3018832d",
   "metadata": {},
   "outputs": [
    {
     "name": "stdout",
     "output_type": "stream",
     "text": [
      "['COLOR_BGR2BGR555', 'COLOR_BGR2BGR565', 'COLOR_BGR2BGRA', 'COLOR_BGR2GRAY', 'COLOR_BGR2HLS', 'COLOR_BGR2HLS_FULL', 'COLOR_BGR2HSV', 'COLOR_BGR2HSV_FULL', 'COLOR_BGR2LAB', 'COLOR_BGR2LUV', 'COLOR_BGR2Lab', 'COLOR_BGR2Luv', 'COLOR_BGR2RGB', 'COLOR_BGR2RGBA', 'COLOR_BGR2XYZ', 'COLOR_BGR2YCR_CB', 'COLOR_BGR2YCrCb', 'COLOR_BGR2YUV', 'COLOR_BGR2YUV_I420', 'COLOR_BGR2YUV_IYUV', 'COLOR_BGR2YUV_UYNV', 'COLOR_BGR2YUV_UYVY', 'COLOR_BGR2YUV_Y422', 'COLOR_BGR2YUV_YUNV', 'COLOR_BGR2YUV_YUY2', 'COLOR_BGR2YUV_YUYV', 'COLOR_BGR2YUV_YV12', 'COLOR_BGR2YUV_YVYU', 'COLOR_BGR5552BGR', 'COLOR_BGR5552BGRA', 'COLOR_BGR5552GRAY', 'COLOR_BGR5552RGB', 'COLOR_BGR5552RGBA', 'COLOR_BGR5652BGR', 'COLOR_BGR5652BGRA', 'COLOR_BGR5652GRAY', 'COLOR_BGR5652RGB', 'COLOR_BGR5652RGBA', 'COLOR_BGRA2BGR', 'COLOR_BGRA2BGR555', 'COLOR_BGRA2BGR565', 'COLOR_BGRA2GRAY', 'COLOR_BGRA2RGB', 'COLOR_BGRA2RGBA', 'COLOR_BGRA2YUV_I420', 'COLOR_BGRA2YUV_IYUV', 'COLOR_BGRA2YUV_UYNV', 'COLOR_BGRA2YUV_UYVY', 'COLOR_BGRA2YUV_Y422', 'COLOR_BGRA2YUV_YUNV', 'COLOR_BGRA2YUV_YUY2', 'COLOR_BGRA2YUV_YUYV', 'COLOR_BGRA2YUV_YV12', 'COLOR_BGRA2YUV_YVYU']\n"
     ]
    }
   ],
   "source": [
    "print(colors_avl)"
   ]
  },
  {
   "cell_type": "code",
   "execution_count": null,
   "id": "c2073a28",
   "metadata": {},
   "outputs": [],
   "source": [
    "im3=cv2.cvtColor"
   ]
  }
 ],
 "metadata": {
  "kernelspec": {
   "display_name": "Python 3 (ipykernel)",
   "language": "python",
   "name": "python3"
  },
  "language_info": {
   "codemirror_mode": {
    "name": "ipython",
    "version": 3
   },
   "file_extension": ".py",
   "mimetype": "text/x-python",
   "name": "python",
   "nbconvert_exporter": "python",
   "pygments_lexer": "ipython3",
   "version": "3.11.5"
  }
 },
 "nbformat": 4,
 "nbformat_minor": 5
}
