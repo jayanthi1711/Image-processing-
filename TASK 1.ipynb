{
 "cells": [
  {
   "cell_type": "code",
   "execution_count": 1,
   "id": "083c91ec",
   "metadata": {},
   "outputs": [],
   "source": [
    "import cv2"
   ]
  },
  {
   "cell_type": "code",
   "execution_count": 2,
   "id": "18919849",
   "metadata": {},
   "outputs": [],
   "source": [
    "import numpy as np"
   ]
  },
  {
   "cell_type": "code",
   "execution_count": 3,
   "id": "c1c48e9d",
   "metadata": {},
   "outputs": [],
   "source": [
    "photo=cv2.imread(\"C:/Users/SN61/Pictures/sk12.jpg\",0)"
   ]
  },
  {
   "cell_type": "code",
   "execution_count": 4,
   "id": "ad59a98b",
   "metadata": {},
   "outputs": [
    {
     "data": {
      "text/plain": [
       "array([[ 62,  65,  69, ...,  43,  44,  44],\n",
       "       [ 64,  66,  69, ...,  40,  44,  44],\n",
       "       [ 67,  68,  70, ...,  37,  44,  44],\n",
       "       ...,\n",
       "       [ 56,  39,  32, ...,  48,  40,  40],\n",
       "       [124, 100,  87, ...,  48,  41,  41],\n",
       "       [125, 101,  96, ...,  49,  46,  46]], dtype=uint8)"
      ]
     },
     "execution_count": 4,
     "metadata": {},
     "output_type": "execute_result"
    }
   ],
   "source": [
    "photo"
   ]
  },
  {
   "cell_type": "code",
   "execution_count": 8,
   "id": "1c11e836",
   "metadata": {},
   "outputs": [],
   "source": [
    "cv2.imshow(\"w1\",photo)\n",
    "cv2.waitKey(0)\n",
    "cv2.destroyAllWindows()"
   ]
  },
  {
   "cell_type": "code",
   "execution_count": 9,
   "id": "fb7e4451",
   "metadata": {},
   "outputs": [
    {
     "data": {
      "text/plain": [
       "True"
      ]
     },
     "execution_count": 9,
     "metadata": {},
     "output_type": "execute_result"
    }
   ],
   "source": [
    "cv2.imwrite(\"C:/Users/SN61/Pictures/Camera Roll/bike.jpg\",photo)"
   ]
  },
  {
   "cell_type": "code",
   "execution_count": null,
   "id": "b6aed886",
   "metadata": {},
   "outputs": [],
   "source": []
  }
 ],
 "metadata": {
  "kernelspec": {
   "display_name": "Python 3 (ipykernel)",
   "language": "python",
   "name": "python3"
  },
  "language_info": {
   "codemirror_mode": {
    "name": "ipython",
    "version": 3
   },
   "file_extension": ".py",
   "mimetype": "text/x-python",
   "name": "python",
   "nbconvert_exporter": "python",
   "pygments_lexer": "ipython3",
   "version": "3.11.5"
  }
 },
 "nbformat": 4,
 "nbformat_minor": 5
}
