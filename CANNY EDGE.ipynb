{
 "cells": [
  {
   "cell_type": "code",
   "execution_count": 1,
   "id": "3ff8a18c",
   "metadata": {},
   "outputs": [],
   "source": [
    "import cv2\n",
    "import numpy as np"
   ]
  },
  {
   "cell_type": "code",
   "execution_count": 4,
   "id": "dc8ca0a1",
   "metadata": {},
   "outputs": [],
   "source": [
    "img=cv2.imread(\"C:/Users/SN61/Downloads/cd7b5c8d4687b5c98a445127926a56e2.jpg\",0)"
   ]
  },
  {
   "cell_type": "code",
   "execution_count": 5,
   "id": "0f9bd249",
   "metadata": {},
   "outputs": [
    {
     "data": {
      "text/plain": [
       "array([[ 9,  9,  9, ..., 17, 17, 16],\n",
       "       [10, 10, 10, ..., 18, 17, 17],\n",
       "       [10, 10, 10, ..., 18, 18, 18],\n",
       "       ...,\n",
       "       [46, 45, 39, ..., 13, 17, 21],\n",
       "       [10, 14, 14, ..., 21, 21, 21],\n",
       "       [11, 13, 12, ..., 28, 23, 19]], dtype=uint8)"
      ]
     },
     "execution_count": 5,
     "metadata": {},
     "output_type": "execute_result"
    }
   ],
   "source": [
    "img"
   ]
  },
  {
   "cell_type": "code",
   "execution_count": null,
   "id": "5be0a0ec",
   "metadata": {},
   "outputs": [],
   "source": []
  }
 ],
 "metadata": {
  "kernelspec": {
   "display_name": "Python 3 (ipykernel)",
   "language": "python",
   "name": "python3"
  },
  "language_info": {
   "codemirror_mode": {
    "name": "ipython",
    "version": 3
   },
   "file_extension": ".py",
   "mimetype": "text/x-python",
   "name": "python",
   "nbconvert_exporter": "python",
   "pygments_lexer": "ipython3",
   "version": "3.11.5"
  }
 },
 "nbformat": 4,
 "nbformat_minor": 5
}
