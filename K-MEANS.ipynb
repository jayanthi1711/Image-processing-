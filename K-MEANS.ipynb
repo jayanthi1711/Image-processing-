{
 "cells": [
  {
   "cell_type": "markdown",
   "id": "c1417ea5",
   "metadata": {},
   "source": [
    "# IMAGE SEGMENTATION IN K-MEANS"
   ]
  },
  {
   "cell_type": "code",
   "execution_count": 3,
   "id": "feb4f01f",
   "metadata": {},
   "outputs": [],
   "source": [
    "import cv2\n",
    "import numpy as np"
   ]
  },
  {
   "cell_type": "code",
   "execution_count": 2,
   "id": "b0fc3621",
   "metadata": {},
   "outputs": [],
   "source": [
    "img=cv2.imread(\"C:/Users/SN61/Downloads/desktop-wallpaper-cute-panda-iphone-cute-panda-love-thumbnail.jpg\",0)"
   ]
  },
  {
   "cell_type": "code",
   "execution_count": 3,
   "id": "b83978ec",
   "metadata": {},
   "outputs": [
    {
     "data": {
      "text/plain": [
       "array([[164, 166, 167, ..., 167, 168, 163],\n",
       "       [164, 166, 167, ..., 173, 171, 169],\n",
       "       [163, 165, 166, ..., 176, 172, 172],\n",
       "       ...,\n",
       "       [163, 161, 163, ..., 158, 160, 158],\n",
       "       [165, 162, 162, ..., 157, 158, 156],\n",
       "       [168, 164, 163, ..., 156, 157, 154]], dtype=uint8)"
      ]
     },
     "execution_count": 3,
     "metadata": {},
     "output_type": "execute_result"
    }
   ],
   "source": [
    "img"
   ]
  },
  {
   "cell_type": "markdown",
   "id": "f8649f5c",
   "metadata": {},
   "source": [
    "# RGB Conversion"
   ]
  },
  {
   "cell_type": "code",
   "execution_count": 5,
   "id": "633a6b49",
   "metadata": {},
   "outputs": [],
   "source": [
    "imgrgb=cv2.cvtColor(img,cv2.COLOR_BGR2RGB)"
   ]
  },
  {
   "cell_type": "markdown",
   "id": "d48ecdb2",
   "metadata": {},
   "source": [
    "# Reshape"
   ]
  },
  {
   "cell_type": "code",
   "execution_count": 6,
   "id": "9c53b4fb",
   "metadata": {},
   "outputs": [],
   "source": [
    "vec=imgrgb.reshape((-1,3))"
   ]
  },
  {
   "cell_type": "code",
   "execution_count": 7,
   "id": "d410fa9f",
   "metadata": {},
   "outputs": [
    {
     "data": {
      "text/plain": [
       "array([[164, 164, 164],\n",
       "       [166, 166, 166],\n",
       "       [167, 167, 167],\n",
       "       ...,\n",
       "       [156, 156, 156],\n",
       "       [157, 157, 157],\n",
       "       [154, 154, 154]], dtype=uint8)"
      ]
     },
     "execution_count": 7,
     "metadata": {},
     "output_type": "execute_result"
    }
   ],
   "source": [
    "vec"
   ]
  },
  {
   "cell_type": "markdown",
   "id": "acbcf3f2",
   "metadata": {},
   "source": [
    "# Float Conversion"
   ]
  },
  {
   "cell_type": "code",
   "execution_count": 8,
   "id": "26cf1574",
   "metadata": {},
   "outputs": [],
   "source": [
    "vec=np.float32(vec)"
   ]
  },
  {
   "cell_type": "code",
   "execution_count": 9,
   "id": "efd2729d",
   "metadata": {},
   "outputs": [
    {
     "data": {
      "text/plain": [
       "array([[164., 164., 164.],\n",
       "       [166., 166., 166.],\n",
       "       [167., 167., 167.],\n",
       "       ...,\n",
       "       [156., 156., 156.],\n",
       "       [157., 157., 157.],\n",
       "       [154., 154., 154.]], dtype=float32)"
      ]
     },
     "execution_count": 9,
     "metadata": {},
     "output_type": "execute_result"
    }
   ],
   "source": [
    "vec"
   ]
  },
  {
   "cell_type": "markdown",
   "id": "61372454",
   "metadata": {},
   "source": [
    "# Iterartion Termination Criteria"
   ]
  },
  {
   "cell_type": "code",
   "execution_count": 11,
   "id": "35884b68",
   "metadata": {},
   "outputs": [],
   "source": [
    "Criteria=(cv2.TERM_CRITERIA_EPS+cv2.TERM_CRITERIA_MAX_ITER,100,1)"
   ]
  },
  {
   "cell_type": "markdown",
   "id": "ec7f0768",
   "metadata": {},
   "source": [
    "# Cluster Condition"
   ]
  },
  {
   "cell_type": "code",
   "execution_count": 12,
   "id": "ae110610",
   "metadata": {},
   "outputs": [],
   "source": [
    "k=2\n",
    "attempts=100"
   ]
  },
  {
   "cell_type": "markdown",
   "id": "f4dcdbdd",
   "metadata": {},
   "source": [
    "# K-Means Clustering"
   ]
  },
  {
   "cell_type": "code",
   "execution_count": 16,
   "id": "98a9cb3d",
   "metadata": {},
   "outputs": [],
   "source": [
    "compactness,label,center=cv2.kmeans(vec,k,None,Criteria,attempts,cv2.KMEANS_PP_CENTERS)"
   ]
  },
  {
   "cell_type": "code",
   "execution_count": 17,
   "id": "2676ecfa",
   "metadata": {},
   "outputs": [
    {
     "data": {
      "text/plain": [
       "array([[ 40.75893,  40.75893,  40.75893],\n",
       "       [209.63466, 209.63466, 209.63466]], dtype=float32)"
      ]
     },
     "execution_count": 17,
     "metadata": {},
     "output_type": "execute_result"
    }
   ],
   "source": [
    "center"
   ]
  },
  {
   "cell_type": "markdown",
   "id": "4f44a60b",
   "metadata": {},
   "source": [
    "# Unit Conversion"
   ]
  },
  {
   "cell_type": "code",
   "execution_count": 27,
   "id": "855638e3",
   "metadata": {},
   "outputs": [],
   "source": [
    "center=np.uint8(center)"
   ]
  },
  {
   "cell_type": "code",
   "execution_count": 28,
   "id": "45f8d4a1",
   "metadata": {},
   "outputs": [
    {
     "data": {
      "text/plain": [
       "array([[ 40,  40,  40],\n",
       "       [209, 209, 209]], dtype=uint8)"
      ]
     },
     "execution_count": 28,
     "metadata": {},
     "output_type": "execute_result"
    }
   ],
   "source": [
    "center"
   ]
  },
  {
   "cell_type": "code",
   "execution_count": 29,
   "id": "e2b42a76",
   "metadata": {},
   "outputs": [],
   "source": [
    "label=np.uint8(label)"
   ]
  },
  {
   "cell_type": "code",
   "execution_count": 30,
   "id": "d6a92ed3",
   "metadata": {},
   "outputs": [
    {
     "data": {
      "text/plain": [
       "array([[1],\n",
       "       [1],\n",
       "       [1],\n",
       "       ...,\n",
       "       [1],\n",
       "       [1],\n",
       "       [1]], dtype=uint8)"
      ]
     },
     "execution_count": 30,
     "metadata": {},
     "output_type": "execute_result"
    }
   ],
   "source": [
    "label"
   ]
  },
  {
   "cell_type": "code",
   "execution_count": 32,
   "id": "2413daef",
   "metadata": {},
   "outputs": [],
   "source": [
    "copmpactness=np.uint8(compactness)"
   ]
  },
  {
   "cell_type": "code",
   "execution_count": 33,
   "id": "256e4a25",
   "metadata": {},
   "outputs": [
    {
     "data": {
      "text/plain": [
       "815736808.1511163"
      ]
     },
     "execution_count": 33,
     "metadata": {},
     "output_type": "execute_result"
    }
   ],
   "source": [
    "compactness"
   ]
  },
  {
   "cell_type": "markdown",
   "id": "41fa0d52",
   "metadata": {},
   "source": [
    "# Flattening and Reshape"
   ]
  },
  {
   "cell_type": "code",
   "execution_count": 34,
   "id": "815e9f4d",
   "metadata": {},
   "outputs": [],
   "source": [
    "res=center[label.flatten()]\n",
    "res_img=res.reshape((imgrgb.shape))"
   ]
  },
  {
   "cell_type": "code",
   "execution_count": 35,
   "id": "775244c5",
   "metadata": {},
   "outputs": [
    {
     "data": {
      "text/plain": [
       "array([[[209, 209, 209],\n",
       "        [209, 209, 209],\n",
       "        [209, 209, 209],\n",
       "        ...,\n",
       "        [209, 209, 209],\n",
       "        [209, 209, 209],\n",
       "        [209, 209, 209]],\n",
       "\n",
       "       [[209, 209, 209],\n",
       "        [209, 209, 209],\n",
       "        [209, 209, 209],\n",
       "        ...,\n",
       "        [209, 209, 209],\n",
       "        [209, 209, 209],\n",
       "        [209, 209, 209]],\n",
       "\n",
       "       [[209, 209, 209],\n",
       "        [209, 209, 209],\n",
       "        [209, 209, 209],\n",
       "        ...,\n",
       "        [209, 209, 209],\n",
       "        [209, 209, 209],\n",
       "        [209, 209, 209]],\n",
       "\n",
       "       ...,\n",
       "\n",
       "       [[209, 209, 209],\n",
       "        [209, 209, 209],\n",
       "        [209, 209, 209],\n",
       "        ...,\n",
       "        [209, 209, 209],\n",
       "        [209, 209, 209],\n",
       "        [209, 209, 209]],\n",
       "\n",
       "       [[209, 209, 209],\n",
       "        [209, 209, 209],\n",
       "        [209, 209, 209],\n",
       "        ...,\n",
       "        [209, 209, 209],\n",
       "        [209, 209, 209],\n",
       "        [209, 209, 209]],\n",
       "\n",
       "       [[209, 209, 209],\n",
       "        [209, 209, 209],\n",
       "        [209, 209, 209],\n",
       "        ...,\n",
       "        [209, 209, 209],\n",
       "        [209, 209, 209],\n",
       "        [209, 209, 209]]], dtype=uint8)"
      ]
     },
     "execution_count": 35,
     "metadata": {},
     "output_type": "execute_result"
    }
   ],
   "source": [
    "res_img"
   ]
  },
  {
   "cell_type": "markdown",
   "id": "63df4c02",
   "metadata": {},
   "source": [
    "# Original and Segmented image"
   ]
  },
  {
   "cell_type": "code",
   "execution_count": 39,
   "id": "e9fb0c22",
   "metadata": {},
   "outputs": [],
   "source": [
    "cv2.imshow('original',img)\n",
    "cv2.imshow('segmented',res_img)\n",
    "cv2.waitKey(0)\n",
    "cv2.destroyAllWindows()"
   ]
  },
  {
   "cell_type": "code",
   "execution_count": 8,
   "id": "d3cda76d",
   "metadata": {},
   "outputs": [],
   "source": [
    "img=cv2.imread(\"C:/Users/SN61/Downloads/images (1).jfif\")"
   ]
  },
  {
   "cell_type": "code",
   "execution_count": 9,
   "id": "0821dd04",
   "metadata": {},
   "outputs": [],
   "source": [
    "segmented_img=cv2.pyrMeanShiftFiltering(img,10,50)"
   ]
  },
  {
   "cell_type": "code",
   "execution_count": null,
   "id": "c6146452",
   "metadata": {},
   "outputs": [],
   "source": [
    "cv2.imshow('original_img',img)\n",
    "cv2.imshow('segmented_img',segmented_img)\n",
    "cv2.waitKey(0)\n",
    "cv2.destroyAllWindows()"
   ]
  },
  {
   "cell_type": "code",
   "execution_count": null,
   "id": "36b0bd17",
   "metadata": {},
   "outputs": [],
   "source": []
  }
 ],
 "metadata": {
  "kernelspec": {
   "display_name": "Python 3 (ipykernel)",
   "language": "python",
   "name": "python3"
  },
  "language_info": {
   "codemirror_mode": {
    "name": "ipython",
    "version": 3
   },
   "file_extension": ".py",
   "mimetype": "text/x-python",
   "name": "python",
   "nbconvert_exporter": "python",
   "pygments_lexer": "ipython3",
   "version": "3.11.5"
  }
 },
 "nbformat": 4,
 "nbformat_minor": 5
}
