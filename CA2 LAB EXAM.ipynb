{
 "cells": [
  {
   "cell_type": "code",
   "execution_count": 1,
   "id": "af2304ce",
   "metadata": {},
   "outputs": [],
   "source": [
    "import cv2\n",
    "import numpy as np"
   ]
  },
  {
   "cell_type": "markdown",
   "id": "fd143231",
   "metadata": {},
   "source": [
    "# NOISE FILTERING"
   ]
  },
  {
   "cell_type": "code",
   "execution_count": 2,
   "id": "e44f18f2",
   "metadata": {},
   "outputs": [],
   "source": [
    "img=cv2.imread('c:/Users/SN61/Downloads/hat.jfif',0)"
   ]
  },
  {
   "cell_type": "code",
   "execution_count": 3,
   "id": "63d9278d",
   "metadata": {},
   "outputs": [
    {
     "data": {
      "text/plain": [
       "array([[241, 241, 241, ..., 255, 255, 255],\n",
       "       [241, 241, 241, ..., 255, 255, 255],\n",
       "       [241, 241, 241, ..., 255, 255, 255],\n",
       "       ...,\n",
       "       [255, 255, 188, ...,  76,  42,  59],\n",
       "       [252, 248, 175, ...,  89,  70,  87],\n",
       "       [255, 252, 189, ...,  88,  94, 107]], dtype=uint8)"
      ]
     },
     "execution_count": 3,
     "metadata": {},
     "output_type": "execute_result"
    }
   ],
   "source": [
    "img"
   ]
  },
  {
   "cell_type": "code",
   "execution_count": 4,
   "id": "3691d999",
   "metadata": {},
   "outputs": [],
   "source": [
    "img=cv2.imread('c:/Users/SN61/Downloads/hat.jfif')\n",
    "Gblur=cv2.GaussianBlur(img,(5,5),0)\n",
    "cv2.imshow('image',img)\n",
    "cv2.imshow('Gaussianblur',Gblur)\n",
    "cv2.waitKey(0)\n",
    "cv2.destroyAllWindows()"
   ]
  },
  {
   "cell_type": "code",
   "execution_count": null,
   "id": "be75d1c3",
   "metadata": {},
   "outputs": [],
   "source": [
    "Bfilter=cv2.bilateralFilter(img,9,50,50)\n",
    "cv2.imshow('image',img)\n",
    "cv2.imshow('BilateralFilter',Bfilter)\n",
    "cv2.imshow('gblur',Gblur)\n",
    "cv2.waitKey(0)\n",
    "cv2.destroyAllWindows()"
   ]
  },
  {
   "cell_type": "markdown",
   "id": "c9cd715d",
   "metadata": {},
   "source": [
    "# THRESHOLDING"
   ]
  },
  {
   "cell_type": "code",
   "execution_count": null,
   "id": "35508190",
   "metadata": {},
   "outputs": [],
   "source": [
    "import cv2\n",
    "import numpy as np"
   ]
  },
  {
   "cell_type": "code",
   "execution_count": null,
   "id": "b6a820e8",
   "metadata": {},
   "outputs": [],
   "source": [
    "img=cv2.imread(\"C:/Users/SN61/Downloads/desktop-wallpaper-cute-panda-iphone-cute-panda-love-thumbnail.jpg\",0)"
   ]
  },
  {
   "cell_type": "code",
   "execution_count": null,
   "id": "f5fef9ef",
   "metadata": {},
   "outputs": [],
   "source": [
    "img"
   ]
  },
  {
   "cell_type": "code",
   "execution_count": null,
   "id": "4c496d0d",
   "metadata": {},
   "outputs": [],
   "source": [
    "cv2.imshow(\"image\",img)\n",
    "ret,thresh=cv2.threshold(img,127,255,cv2.THRESH_BINARY)\n",
    "ret,thresh=cv2.threshold(img,127,255,cv2.THRESH_BINARY_INV)\n",
    "ret,thresh=cv2.threshold(img,127,255,cv2.THRESH_TRUNC)\n",
    "ret,thresh=cv2.threshold(img,127,255,cv2.THRESH_TOZERO)\n",
    "cv2.imshow(\"Binary threshold\",thresh)\n",
    "cv2.imshow(\"Binary inverse threshold\",thresh)\n",
    "cv2.imshow(\"Truncate threshold\",thresh)\n",
    "cv2.imshow(\"To Zero\",thresh)\n",
    "\n"
   ]
  },
  {
   "cell_type": "code",
   "execution_count": null,
   "id": "fe2eb36c",
   "metadata": {},
   "outputs": [],
   "source": [
    "cv2.waitKey(0)\n",
    "cv2.destroyAllWindows()"
   ]
  },
  {
   "cell_type": "code",
   "execution_count": null,
   "id": "ba9917c7",
   "metadata": {},
   "outputs": [],
   "source": []
  }
 ],
 "metadata": {
  "kernelspec": {
   "display_name": "Python 3 (ipykernel)",
   "language": "python",
   "name": "python3"
  },
  "language_info": {
   "codemirror_mode": {
    "name": "ipython",
    "version": 3
   },
   "file_extension": ".py",
   "mimetype": "text/x-python",
   "name": "python",
   "nbconvert_exporter": "python",
   "pygments_lexer": "ipython3",
   "version": "3.11.5"
  }
 },
 "nbformat": 4,
 "nbformat_minor": 5
}
