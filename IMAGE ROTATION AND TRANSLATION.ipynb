{
 "cells": [
  {
   "cell_type": "markdown",
   "id": "9474c089",
   "metadata": {},
   "source": [
    "# Image Rotation"
   ]
  },
  {
   "cell_type": "code",
   "execution_count": 1,
   "id": "70d2dec8",
   "metadata": {},
   "outputs": [],
   "source": [
    "import cv2\n",
    "import numpy as np"
   ]
  },
  {
   "cell_type": "code",
   "execution_count": 2,
   "id": "ca05c0c6",
   "metadata": {},
   "outputs": [],
   "source": [
    "im1=cv2.imread(\"C:/Users/SN61/Music/th (1).jpg\")"
   ]
  },
  {
   "cell_type": "code",
   "execution_count": 3,
   "id": "a4aa3a52",
   "metadata": {},
   "outputs": [
    {
     "data": {
      "text/plain": [
       "array([[[201, 188, 120],\n",
       "        [179, 167,  97],\n",
       "        [164, 154,  77],\n",
       "        ...,\n",
       "        [247, 202, 121],\n",
       "        [250, 204, 127],\n",
       "        [251, 205, 128]],\n",
       "\n",
       "       [[207, 193, 127],\n",
       "        [187, 174, 106],\n",
       "        [169, 158,  84],\n",
       "        ...,\n",
       "        [242, 199, 120],\n",
       "        [246, 202, 125],\n",
       "        [248, 204, 127]],\n",
       "\n",
       "       [[234, 216, 155],\n",
       "        [218, 201, 138],\n",
       "        [195, 179, 112],\n",
       "        ...,\n",
       "        [241, 200, 121],\n",
       "        [243, 201, 124],\n",
       "        [244, 202, 127]],\n",
       "\n",
       "       ...,\n",
       "\n",
       "       [[ 56,  93,  53],\n",
       "        [ 56,  96,  55],\n",
       "        [ 57,  97,  56],\n",
       "        ...,\n",
       "        [ 56,  50,  37],\n",
       "        [ 56,  50,  37],\n",
       "        [ 64,  58,  45]],\n",
       "\n",
       "       [[ 55,  92,  52],\n",
       "        [ 57,  94,  54],\n",
       "        [ 56,  96,  55],\n",
       "        ...,\n",
       "        [ 53,  47,  34],\n",
       "        [ 57,  51,  40],\n",
       "        [ 72,  66,  55]],\n",
       "\n",
       "       [[ 53,  90,  50],\n",
       "        [ 55,  92,  52],\n",
       "        [ 54,  94,  53],\n",
       "        ...,\n",
       "        [ 50,  44,  31],\n",
       "        [ 59,  53,  42],\n",
       "        [ 80,  74,  63]]], dtype=uint8)"
      ]
     },
     "execution_count": 3,
     "metadata": {},
     "output_type": "execute_result"
    }
   ],
   "source": [
    "im1"
   ]
  },
  {
   "cell_type": "code",
   "execution_count": 4,
   "id": "5f09efb2",
   "metadata": {},
   "outputs": [],
   "source": [
    "shp=im1.shape"
   ]
  },
  {
   "cell_type": "code",
   "execution_count": 5,
   "id": "eaf54f64",
   "metadata": {},
   "outputs": [
    {
     "name": "stdout",
     "output_type": "stream",
     "text": [
      "(243, 432, 3)\n"
     ]
    }
   ],
   "source": [
    "print(shp)"
   ]
  },
  {
   "cell_type": "code",
   "execution_count": 6,
   "id": "78c8f0e6",
   "metadata": {},
   "outputs": [
    {
     "name": "stdout",
     "output_type": "stream",
     "text": [
      "243\n",
      "432\n"
     ]
    }
   ],
   "source": [
    "height,width=im1.shape[:2]\n",
    "print(height)\n",
    "print(width)"
   ]
  },
  {
   "cell_type": "code",
   "execution_count": 7,
   "id": "68289cf8",
   "metadata": {},
   "outputs": [],
   "source": [
    "cntr=(height/2,width/2)"
   ]
  },
  {
   "cell_type": "code",
   "execution_count": 8,
   "id": "07cfb526",
   "metadata": {},
   "outputs": [
    {
     "data": {
      "text/plain": [
       "(121.5, 216.0)"
      ]
     },
     "execution_count": 8,
     "metadata": {},
     "output_type": "execute_result"
    }
   ],
   "source": [
    "cntr"
   ]
  },
  {
   "cell_type": "code",
   "execution_count": 9,
   "id": "14eab400",
   "metadata": {},
   "outputs": [],
   "source": [
    "rotation_matrix=cv2.getRotationMatrix2D(center=cntr,angle=30,scale=0.5)"
   ]
  },
  {
   "cell_type": "code",
   "execution_count": 10,
   "id": "7f0d4d22",
   "metadata": {},
   "outputs": [
    {
     "name": "stdout",
     "output_type": "stream",
     "text": [
      "[[  0.4330127    0.25        14.88895672]\n",
      " [ -0.25         0.4330127  152.84425639]]\n"
     ]
    }
   ],
   "source": [
    "print(rotation_matrix)"
   ]
  },
  {
   "cell_type": "code",
   "execution_count": 11,
   "id": "86c0e136",
   "metadata": {},
   "outputs": [],
   "source": [
    "rotated_im=cv2.warpAffine(src=im1, M=rotation_matrix, dsize=(width,height))"
   ]
  },
  {
   "cell_type": "code",
   "execution_count": null,
   "id": "04f70a60",
   "metadata": {},
   "outputs": [],
   "source": [
    "cv2.imshow('original image',im1)\n",
    "cv2.waitKey(0)\n",
    "cv2.imshow('rotated image',rotated_im)\n",
    "cv2.waitKey(0)\n",
    "cv2.destroyAllWindows()"
   ]
  },
  {
   "cell_type": "markdown",
   "id": "8a29e560",
   "metadata": {},
   "source": [
    "# Translation matrix"
   ]
  },
  {
   "cell_type": "code",
   "execution_count": null,
   "id": "887e6845",
   "metadata": {},
   "outputs": [],
   "source": [
    "tx,ty=width/2,height/2"
   ]
  },
  {
   "cell_type": "code",
   "execution_count": null,
   "id": "b512337f",
   "metadata": {},
   "outputs": [],
   "source": [
    "tx"
   ]
  },
  {
   "cell_type": "code",
   "execution_count": null,
   "id": "cf7a6127",
   "metadata": {},
   "outputs": [],
   "source": [
    "ty"
   ]
  },
  {
   "cell_type": "code",
   "execution_count": null,
   "id": "7ad0ef1e",
   "metadata": {},
   "outputs": [],
   "source": [
    "Translation_matrix=np.array([[3,0,tx],[0,2,ty]])"
   ]
  },
  {
   "cell_type": "code",
   "execution_count": null,
   "id": "a9760952",
   "metadata": {},
   "outputs": [],
   "source": [
    "Translation_matrix"
   ]
  },
  {
   "cell_type": "code",
   "execution_count": null,
   "id": "8aa58461",
   "metadata": {},
   "outputs": [],
   "source": [
    "Trans_im=cv2.warpAffine(src=im1, M=Translation_matrix, dsize=(width,height))"
   ]
  },
  {
   "cell_type": "code",
   "execution_count": null,
   "id": "441bc7bf",
   "metadata": {},
   "outputs": [],
   "source": [
    "cv2.imshow('original image',im1)\n",
    "cv2.waitKey(0)\n",
    "cv2.imshow('Trans image',Trans_im)\n",
    "cv2.waitKey(0)\n",
    "cv2.destroyAllWindows()"
   ]
  },
  {
   "cell_type": "code",
   "execution_count": null,
   "id": "eae16219",
   "metadata": {},
   "outputs": [],
   "source": []
  }
 ],
 "metadata": {
  "kernelspec": {
   "display_name": "Python 3 (ipykernel)",
   "language": "python",
   "name": "python3"
  },
  "language_info": {
   "codemirror_mode": {
    "name": "ipython",
    "version": 3
   },
   "file_extension": ".py",
   "mimetype": "text/x-python",
   "name": "python",
   "nbconvert_exporter": "python",
   "pygments_lexer": "ipython3",
   "version": "3.11.5"
  }
 },
 "nbformat": 4,
 "nbformat_minor": 5
}
