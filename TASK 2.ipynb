{
 "cells": [
  {
   "cell_type": "markdown",
   "id": "366e5b5f",
   "metadata": {},
   "source": [
    "# MEDIAN FILTERS"
   ]
  },
  {
   "cell_type": "code",
   "execution_count": 1,
   "id": "edfd5773",
   "metadata": {},
   "outputs": [],
   "source": [
    "import cv2"
   ]
  },
  {
   "cell_type": "code",
   "execution_count": 2,
   "id": "8306bb51",
   "metadata": {},
   "outputs": [],
   "source": [
    "import numpy as np"
   ]
  },
  {
   "cell_type": "code",
   "execution_count": 9,
   "id": "c4a9bf29",
   "metadata": {},
   "outputs": [],
   "source": [
    "img=cv2.imread(\"C:/Users/SN61/Downloads/e52372cfd98fb2e0c31ba1effa7403d7.jpg\",0)"
   ]
  },
  {
   "cell_type": "code",
   "execution_count": 10,
   "id": "b76e7978",
   "metadata": {},
   "outputs": [
    {
     "data": {
      "text/plain": [
       "array([[254, 255, 228, ..., 223, 221, 252],\n",
       "       [254, 255, 228, ..., 198, 208, 242],\n",
       "       [254, 255, 229, ..., 158, 190, 230],\n",
       "       ...,\n",
       "       [250, 255, 210, ..., 216, 239, 241],\n",
       "       [252, 255, 207, ..., 218, 240, 242],\n",
       "       [253, 253, 204, ..., 220, 240, 242]], dtype=uint8)"
      ]
     },
     "execution_count": 10,
     "metadata": {},
     "output_type": "execute_result"
    }
   ],
   "source": [
    "img"
   ]
  },
  {
   "cell_type": "code",
   "execution_count": 11,
   "id": "0efac97f",
   "metadata": {},
   "outputs": [],
   "source": [
    "median=cv2.imread(\"C:/Users/SN61/Downloads/e52372cfd98fb2e0c31ba1effa7403d7.jpg\")\n",
    "medianfilter=cv2.medianBlur(median,5)\n",
    "cv2.imshow('img',median)\n",
    "cv2.imshow('median blur',medianfilter)\n",
    "cv2.waitKey(0)\n",
    "cv2.destroyAllWindows()"
   ]
  },
  {
   "cell_type": "markdown",
   "id": "cb1eb415",
   "metadata": {},
   "source": [
    "# GAUSSIAN FILTER"
   ]
  },
  {
   "cell_type": "code",
   "execution_count": null,
   "id": "2be5d2d3",
   "metadata": {},
   "outputs": [],
   "source": []
  }
 ],
 "metadata": {
  "kernelspec": {
   "display_name": "Python 3 (ipykernel)",
   "language": "python",
   "name": "python3"
  },
  "language_info": {
   "codemirror_mode": {
    "name": "ipython",
    "version": 3
   },
   "file_extension": ".py",
   "mimetype": "text/x-python",
   "name": "python",
   "nbconvert_exporter": "python",
   "pygments_lexer": "ipython3",
   "version": "3.11.5"
  }
 },
 "nbformat": 4,
 "nbformat_minor": 5
}
