{
 "cells": [
  {
   "cell_type": "code",
   "execution_count": 1,
   "id": "1051b0eb",
   "metadata": {},
   "outputs": [],
   "source": [
    "import cv2"
   ]
  },
  {
   "cell_type": "code",
   "execution_count": 2,
   "id": "77df8ac8",
   "metadata": {},
   "outputs": [],
   "source": [
    "import numpy as np"
   ]
  },
  {
   "cell_type": "code",
   "execution_count": 3,
   "id": "eb9df88b",
   "metadata": {},
   "outputs": [
    {
     "data": {
      "text/plain": [
       "array([[[ 33,  35,  43],\n",
       "        [ 46,  48,  56],\n",
       "        [ 62,  64,  75],\n",
       "        ...,\n",
       "        [199, 195, 224],\n",
       "        [199, 195, 224],\n",
       "        [197, 195, 224]],\n",
       "\n",
       "       [[ 24,  26,  34],\n",
       "        [ 35,  37,  45],\n",
       "        [ 48,  49,  59],\n",
       "        ...,\n",
       "        [200, 195, 224],\n",
       "        [199, 195, 224],\n",
       "        [197, 195, 224]],\n",
       "\n",
       "       [[ 14,  14,  20],\n",
       "        [ 20,  22,  30],\n",
       "        [ 30,  32,  40],\n",
       "        ...,\n",
       "        [200, 195, 224],\n",
       "        [199, 195, 224],\n",
       "        [199, 195, 224]],\n",
       "\n",
       "       ...,\n",
       "\n",
       "       [[223, 185, 155],\n",
       "        [178, 140, 106],\n",
       "        [206, 164, 122],\n",
       "        ...,\n",
       "        [111,  48,  34],\n",
       "        [117,  52,  38],\n",
       "        [121,  56,  41]],\n",
       "\n",
       "       [[188, 143, 110],\n",
       "        [192, 147, 110],\n",
       "        [206, 156, 114],\n",
       "        ...,\n",
       "        [105,  46,  31],\n",
       "        [110,  49,  35],\n",
       "        [115,  53,  37]],\n",
       "\n",
       "       [[158, 110,  76],\n",
       "        [215, 166, 128],\n",
       "        [197, 144, 101],\n",
       "        ...,\n",
       "        [101,  44,  29],\n",
       "        [108,  47,  33],\n",
       "        [111,  51,  35]]], dtype=uint8)"
      ]
     },
     "execution_count": 3,
     "metadata": {},
     "output_type": "execute_result"
    }
   ],
   "source": [
    "cv2.imread(\"C:/Users/SN61/Pictures/download.jpg\")"
   ]
  },
  {
   "cell_type": "code",
   "execution_count": 1,
   "id": "c1ad4a49",
   "metadata": {},
   "outputs": [],
   "source": [
    "import cv2"
   ]
  },
  {
   "cell_type": "code",
   "execution_count": 2,
   "id": "94e855c5",
   "metadata": {},
   "outputs": [],
   "source": [
    "import numpy as np"
   ]
  },
  {
   "cell_type": "code",
   "execution_count": 3,
   "id": "7d115596",
   "metadata": {},
   "outputs": [],
   "source": [
    "pic=cv2.imread(\"C:/Users/SN61/Pictures/sk12.jpg\",0)"
   ]
  },
  {
   "cell_type": "code",
   "execution_count": 4,
   "id": "3a849a63",
   "metadata": {},
   "outputs": [
    {
     "data": {
      "text/plain": [
       "array([[ 62,  65,  69, ...,  43,  44,  44],\n",
       "       [ 64,  66,  69, ...,  40,  44,  44],\n",
       "       [ 67,  68,  70, ...,  37,  44,  44],\n",
       "       ...,\n",
       "       [ 56,  39,  32, ...,  48,  40,  40],\n",
       "       [124, 100,  87, ...,  48,  41,  41],\n",
       "       [125, 101,  96, ...,  49,  46,  46]], dtype=uint8)"
      ]
     },
     "execution_count": 4,
     "metadata": {},
     "output_type": "execute_result"
    }
   ],
   "source": [
    "pic"
   ]
  },
  {
   "cell_type": "code",
   "execution_count": null,
   "id": "e7b55149",
   "metadata": {},
   "outputs": [],
   "source": [
    "cv2.imshow(\"w1\",pic)\n",
    "cv2.waitKey(0)\n",
    "cv2.destroyAllWindows()"
   ]
  },
  {
   "cell_type": "code",
   "execution_count": null,
   "id": "27a1ced3",
   "metadata": {},
   "outputs": [],
   "source": []
  },
  {
   "cell_type": "code",
   "execution_count": null,
   "id": "7a7001b9",
   "metadata": {},
   "outputs": [],
   "source": []
  },
  {
   "cell_type": "code",
   "execution_count": null,
   "id": "404d97e5",
   "metadata": {},
   "outputs": [],
   "source": []
  },
  {
   "cell_type": "code",
   "execution_count": null,
   "id": "e5703868",
   "metadata": {},
   "outputs": [],
   "source": []
  },
  {
   "cell_type": "code",
   "execution_count": null,
   "id": "7581888a",
   "metadata": {},
   "outputs": [],
   "source": []
  },
  {
   "cell_type": "code",
   "execution_count": null,
   "id": "a086f851",
   "metadata": {},
   "outputs": [],
   "source": []
  },
  {
   "cell_type": "code",
   "execution_count": null,
   "id": "f36d97bf",
   "metadata": {},
   "outputs": [],
   "source": []
  }
 ],
 "metadata": {
  "kernelspec": {
   "display_name": "Python 3 (ipykernel)",
   "language": "python",
   "name": "python3"
  },
  "language_info": {
   "codemirror_mode": {
    "name": "ipython",
    "version": 3
   },
   "file_extension": ".py",
   "mimetype": "text/x-python",
   "name": "python",
   "nbconvert_exporter": "python",
   "pygments_lexer": "ipython3",
   "version": "3.11.5"
  }
 },
 "nbformat": 4,
 "nbformat_minor": 5
}
