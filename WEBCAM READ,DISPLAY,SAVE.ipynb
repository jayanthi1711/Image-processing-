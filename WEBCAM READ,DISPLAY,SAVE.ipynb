{
 "cells": [
  {
   "cell_type": "code",
   "execution_count": null,
   "id": "a2f9289c",
   "metadata": {},
   "outputs": [],
   "source": [
    "import cv2\n",
    "import numpy as np"
   ]
  },
  {
   "cell_type": "markdown",
   "id": "884abd7f",
   "metadata": {},
   "source": [
    "# webcam capture"
   ]
  },
  {
   "cell_type": "code",
   "execution_count": null,
   "id": "39fcebc0",
   "metadata": {},
   "outputs": [],
   "source": [
    "vid=cv2.VideoCapture(\"C:/Users/SN61/Downloads/110877-689510466_large jelly fish.mp4\")"
   ]
  },
  {
   "cell_type": "markdown",
   "id": "dab7acf6",
   "metadata": {},
   "source": [
    "# webcam display"
   ]
  },
  {
   "cell_type": "code",
   "execution_count": null,
   "id": "965872b7",
   "metadata": {},
   "outputs": [],
   "source": [
    "while(true):\n",
    "    ret,frame=vid.read()\n",
    "    gray=cv2.cvtColor(frame,cv2.COLOR_BGR2RGB)"
   ]
  },
  {
   "cell_type": "markdown",
   "id": "bf1f78bf",
   "metadata": {},
   "source": [
    "# defining codec"
   ]
  },
  {
   "cell_type": "code",
   "execution_count": null,
   "id": "a327d4a8",
   "metadata": {
    "scrolled": true
   },
   "outputs": [],
   "source": [
    "fourcc=cv2.VideoWriter_fourcc(*'')"
   ]
  },
  {
   "cell_type": "markdown",
   "id": "d66bfb1c",
   "metadata": {},
   "source": [
    "# video writer"
   ]
  },
  {
   "cell_type": "code",
   "execution_count": null,
   "id": "43608f8a",
   "metadata": {},
   "outputs": [],
   "source": [
    "wrt=cv2.VideoWriter(\"C:/Users/SN61/Downloads/110877-689510466_large jelly fish.mp4\",fourcc,50.0,(640,480))"
   ]
  },
  {
   "cell_type": "code",
   "execution_count": null,
   "id": "0f1ab3f4",
   "metadata": {},
   "outputs": [],
   "source": [
    "while(view.isOpened()):\n",
    "    ret,frame=vid.read()\n",
    "    wrt.write(frame)\n",
    "    cv2.imshow('frame',frame)\n",
    "    if cv2.waitKey(1)&0xFF==ord('q'):\n",
    "        break\n",
    "        \n",
    "        \n",
    "vid.release()\n",
    "wrt.release()\n",
    "cv2.destroyAllWindows()"
   ]
  }
 ],
 "metadata": {
  "kernelspec": {
   "display_name": "Python 3 (ipykernel)",
   "language": "python",
   "name": "python3"
  },
  "language_info": {
   "codemirror_mode": {
    "name": "ipython",
    "version": 3
   },
   "file_extension": ".py",
   "mimetype": "text/x-python",
   "name": "python",
   "nbconvert_exporter": "python",
   "pygments_lexer": "ipython3",
   "version": "3.11.5"
  }
 },
 "nbformat": 4,
 "nbformat_minor": 5
}
